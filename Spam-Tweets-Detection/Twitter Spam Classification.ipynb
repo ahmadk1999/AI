{
 "cells": [
  {
   "cell_type": "markdown",
   "metadata": {},
   "source": [
    "# Twitter Spam Classification "
   ]
  },
  {
   "cell_type": "markdown",
   "metadata": {},
   "source": [
    "### Importing necessary libraries for Exploratory Data Analysis and Model Building"
   ]
  },
  {
   "cell_type": "code",
   "execution_count": 83,
   "metadata": {
    "pycharm": {
     "name": "#%%\n"
    }
   },
   "outputs": [],
   "source": [
    "\n",
    "import pandas as pd\n",
    "import collections\n",
    "import numpy as np\n",
    "import seaborn as sns\n",
    "import matplotlib.pyplot as plt\n",
    "import scipy\n",
    "import math\n",
    "import nltk\n",
    "\n",
    "np.set_printoptions(suppress=True)\n",
    "\n",
    "%matplotlib inline"
   ]
  },
  {
   "cell_type": "code",
   "execution_count": 84,
   "metadata": {
    "pycharm": {
     "name": "#%%\n"
    }
   },
   "outputs": [],
   "source": [
    "from sklearn.metrics import confusion_matrix"
   ]
  },
  {
   "cell_type": "markdown",
   "source": [
    "### Importing and preparing data"
   ],
   "metadata": {
    "collapsed": false
   }
  },
  {
   "cell_type": "code",
   "execution_count": 85,
   "metadata": {
    "pycharm": {
     "name": "#%%\n"
    }
   },
   "outputs": [],
   "source": [
    "#df_input_prefiltered -> complete dataset with labels\n",
    "#df_input             -> dataset spam input\n",
    "\n",
    "\n",
    "df_input = pd.read_csv('train.csv')\n",
    "\n",
    "\n",
    "#updating column names to join dataframes on keys\n",
    "df_input.columns = ['Id','tweet','following','followers','actions','is_retweet','location','type']\n",
    "\n",
    "#dataframe merge and assign corresponding label\n"
   ]
  },
  {
   "cell_type": "markdown",
   "metadata": {},
   "source": [
    "### Splitting tabular Data based on Spam/ Quality label"
   ]
  },
  {
   "cell_type": "code",
   "execution_count": 86,
   "metadata": {
    "pycharm": {
     "name": "#%%\n"
    }
   },
   "outputs": [],
   "source": [
    "Quality_df = df_input[df_input.type == \"Quality\"]\n",
    "spam_df = df_input[df_input.type == \"Spam\"]\n",
    "\n",
    "Quality_df = Quality_df.sample(len(spam_df))\n",
    "df = pd.concat([Quality_df,spam_df])"
   ]
  },
  {
   "cell_type": "code",
   "execution_count": 87,
   "metadata": {
    "pycharm": {
     "name": "#%%\n"
    }
   },
   "outputs": [
    {
     "name": "stdout",
     "output_type": "stream",
     "text": [
      "Number of Spam tweets: 5815 \n",
      "\n",
      "Number of Ham tweets: 5815\n"
     ]
    }
   ],
   "source": [
    "print(\"Number of Spam tweets:\",len(spam_df),\"\\n\")\n",
    "print(\"Number of Ham tweets:\",len(Quality_df))"
   ]
  },
  {
   "cell_type": "markdown",
   "metadata": {},
   "source": [
    "### Exploring existance of null values "
   ]
  },
  {
   "cell_type": "markdown",
   "metadata": {},
   "source": [
    "#### We observe that many features have null values, which need to be removed from the dataset "
   ]
  },
  {
   "cell_type": "code",
   "execution_count": 88,
   "metadata": {
    "pycharm": {
     "name": "#%%\n"
    }
   },
   "outputs": [
    {
     "data": {
      "text/plain": "Id               0\ntweet            0\nfollowing      145\nfollowers       16\nactions       2773\nis_retweet       1\nlocation      1651\ntype             0\ndtype: int64"
     },
     "execution_count": 88,
     "metadata": {},
     "output_type": "execute_result"
    }
   ],
   "source": [
    "df_input.isnull().sum()"
   ]
  },
  {
   "cell_type": "markdown",
   "metadata": {},
   "source": [
    "### Removing unnecessary labels"
   ]
  },
  {
   "cell_type": "code",
   "execution_count": 89,
   "metadata": {
    "pycharm": {
     "name": "#%%\n"
    }
   },
   "outputs": [
    {
     "name": "stdout",
     "output_type": "stream",
     "text": [
      "\n",
      "Number of tweets with null locations: 1651 \n",
      "Hence, we remove this feature.\n"
     ]
    }
   ],
   "source": [
    "\n",
    "print(\"\\nNumber of tweets with null locations:\",df_input.location.isnull().sum(),\"\\nHence, we remove this feature.\")\n",
    "\n",
    "\n",
    "\n",
    "\n",
    "\n",
    "del df_input['location']\n",
    "\n",
    "\n",
    "\n"
   ]
  },
  {
   "cell_type": "markdown",
   "metadata": {},
   "source": [
    "## Extracting Features"
   ]
  },
  {
   "cell_type": "markdown",
   "source": [
    "has_hashtag is a binary variable. If the tweet was posted along with a hashtag, has_hastag = 1, else 0\n",
    "num_hashtag is a continous variable. If takes the value corresponding to number of hashtags included in a tweet."
   ],
   "metadata": {
    "collapsed": false
   }
  },
  {
   "cell_type": "code",
   "execution_count": 90,
   "outputs": [],
   "source": [
    "import re\n",
    "\n",
    "has_hashtags = []\n",
    "\n",
    "for i in df.tweet:\n",
    "    if re.search('#',i):\n",
    "        has_hashtags.append(1)\n",
    "\n",
    "    else:\n",
    "        has_hashtags.append(0)\n",
    "\n",
    "\n",
    "df['has_hashtags'] = has_hashtags\n",
    "\n"
   ],
   "metadata": {
    "collapsed": false,
    "pycharm": {
     "name": "#%%\n"
    }
   }
  },
  {
   "cell_type": "markdown",
   "source": [
    "has_media is a binary variable. If the tweet was posted along with a media link, has_media = 1, else 0"
   ],
   "metadata": {
    "collapsed": false
   }
  },
  {
   "cell_type": "code",
   "execution_count": 91,
   "outputs": [],
   "source": [
    "has_media = []\n",
    "\n",
    "for i in df.tweet:\n",
    "    if re.search('@',i):\n",
    "        has_media.append(1)\n",
    "    else:\n",
    "        has_media.append(0)\n",
    "\n",
    "df['has_media'] = has_media"
   ],
   "metadata": {
    "collapsed": false,
    "pycharm": {
     "name": "#%%\n"
    }
   }
  },
  {
   "cell_type": "markdown",
   "source": [
    "has_urls is a binary variable. If the tweet consists a url link, has_url = 1, else 0"
   ],
   "metadata": {
    "collapsed": false
   }
  },
  {
   "cell_type": "code",
   "execution_count": 92,
   "outputs": [],
   "source": [
    "has_urls = []\n",
    "\n",
    "for i in df.tweet:\n",
    "    if re.search('https',i):\n",
    "        has_urls.append(1)\n",
    "    else:\n",
    "        has_urls.append(0)\n",
    "\n",
    "df['has_urls'] = has_urls"
   ],
   "metadata": {
    "collapsed": false,
    "pycharm": {
     "name": "#%%\n"
    }
   }
  },
  {
   "cell_type": "markdown",
   "metadata": {},
   "source": [
    "### f_ratio: The ratio of followers to following of a person, which is important in analysis Spam/ Ham tweets"
   ]
  },
  {
   "cell_type": "code",
   "execution_count": 93,
   "metadata": {
    "pycharm": {
     "name": "#%%\n"
    }
   },
   "outputs": [],
   "source": [
    "df['f_ratio'] = (df['followers']+1)/(df['following']+1 )"
   ]
  },
  {
   "cell_type": "markdown",
   "metadata": {},
   "source": [
    "### length is a continuous variable, corresponding to number of words in a given tweet"
   ]
  },
  {
   "cell_type": "code",
   "execution_count": 94,
   "metadata": {
    "pycharm": {
     "name": "#%%\n"
    }
   },
   "outputs": [],
   "source": [
    "length = []\n",
    "for i in range(0,len(df)):\n",
    "    length.append(len(df.iloc[i].tweet))\n",
    "df['length'] = length"
   ]
  },
  {
   "cell_type": "markdown",
   "metadata": {},
   "source": [
    "###  DIGITS is a continuous variable, corresponds to number of digits in a given tweet"
   ]
  },
  {
   "cell_type": "code",
   "execution_count": 95,
   "metadata": {
    "pycharm": {
     "name": "#%%\n"
    }
   },
   "outputs": [],
   "source": [
    "digits_list = []\n",
    "\n",
    "for i in range(0,len(df)):\n",
    "    if(sum(c.isdigit() for c in df.tweet.iloc[i]) == 0):\n",
    "        digits_list.append(0)\n",
    "    else:\n",
    "        digits_list.append(sum(c.isdigit() for c in df.tweet.iloc[i]))\n",
    "\n",
    "digits_col = pd.Series(digits_list)\n",
    "df['DIGITS'] = digits_col.values"
   ]
  },
  {
   "cell_type": "markdown",
   "metadata": {},
   "source": [
    "### CAP is a continuous variable, coreesponds to number of capitalized words in a given tweet."
   ]
  },
  {
   "cell_type": "code",
   "execution_count": 96,
   "metadata": {
    "pycharm": {
     "name": "#%%\n"
    }
   },
   "outputs": [],
   "source": [
    "cap_list = []\n",
    "\n",
    "for i in range(0,len(df)):\n",
    "    words = df.tweet.iloc[i].split()\n",
    "    count = 0\n",
    "    for j in range(0,len(words)):\n",
    "        if(words[j].isupper()):\n",
    "            count = count + 1;\n",
    "    cap_list.append(count)    \n",
    "    #print(cap_list)\n",
    "        \n",
    "cap_col = pd.Series(cap_list)\n",
    "df['CAP'] = cap_col.values"
   ]
  },
  {
   "cell_type": "markdown",
   "metadata": {},
   "source": [
    "## Exploratory Data Analysis "
   ]
  },
  {
   "cell_type": "markdown",
   "metadata": {},
   "source": [
    "### First, we  take a look at the difference between the tweets corresponding to Spam & Ham. We create new feaures called filtered_text and filtered_text_lower. \n",
    "\n",
    "### filtered_text contains the text of every corresponding tweet, filtered by the nltk stopwords.\n",
    "\n",
    "### filtered_text_lower contains tokens after converting the filtered_text to lower case"
   ]
  },
  {
   "cell_type": "code",
   "execution_count": 97,
   "metadata": {
    "pycharm": {
     "name": "#%%\n"
    }
   },
   "outputs": [
    {
     "name": "stderr",
     "output_type": "stream",
     "text": [
      "[nltk_data] Error loading stopwords: <urlopen error [WinError 10060] A\n",
      "[nltk_data]     connection attempt failed because the connected party\n",
      "[nltk_data]     did not properly respond after a period of time, or\n",
      "[nltk_data]     established connection failed because connected host\n",
      "[nltk_data]     has failed to respond>\n"
     ]
    }
   ],
   "source": [
    "import nltk\n",
    "nltk.download('stopwords')\n",
    "from nltk.corpus import stopwords\n",
    "filtered_text = []\n",
    "\n",
    "for i in range(0,len(df)):\n",
    "    word_list = str(df.tweet.iloc[i]).split()\n",
    "    filtered_words = [word for word in word_list if word not in stopwords.words('english')]\n",
    "    filtered_text.append(' '.join(filtered_words))\n",
    "df['filtered_text'] = filtered_text\n",
    "df['filtered_text_lower'] = df['filtered_text'].str.lower()"
   ]
  },
  {
   "cell_type": "code",
   "execution_count": 98,
   "metadata": {
    "pycharm": {
     "name": "#%%\n"
    }
   },
   "outputs": [
    {
     "data": {
      "text/plain": "Index(['Id', 'tweet', 'following', 'followers', 'actions', 'is_retweet',\n       'location', 'type', 'has_hashtags', 'has_media', 'has_urls', 'f_ratio',\n       'length', 'DIGITS', 'CAP', 'filtered_text', 'filtered_text_lower'],\n      dtype='object')"
     },
     "execution_count": 98,
     "metadata": {},
     "output_type": "execute_result"
    }
   ],
   "source": [
    "df.columns"
   ]
  },
  {
   "cell_type": "markdown",
   "metadata": {},
   "source": [
    "### Word Frequencies "
   ]
  },
  {
   "cell_type": "code",
   "execution_count": 99,
   "metadata": {
    "pycharm": {
     "name": "#%%\n"
    }
   },
   "outputs": [],
   "source": [
    "spam_text = []\n",
    "spam_df = df[df.type=='Spam']\n",
    "\n",
    "for i in range(0,len(spam_df)):\n",
    "    spam_text.append(spam_df.filtered_text.iloc[i])\n",
    "    \n",
    "Quality_text = []\n",
    "Quality_df = df[df.type=='Quality']\n",
    "\n",
    "for i in range(0,len(Quality_df)):\n",
    "    Quality_text.append(Quality_df.filtered_text.iloc[i])"
   ]
  },
  {
   "cell_type": "code",
   "execution_count": 100,
   "metadata": {
    "pycharm": {
     "name": "#%%\n"
    }
   },
   "outputs": [
    {
     "name": "stdout",
     "output_type": "stream",
     "text": [
      "\n",
      "Below is the plot of 50 most commonly used words in SPAM comment\n"
     ]
    },
    {
     "data": {
      "text/plain": "<Figure size 1080x504 with 1 Axes>",
      "image/png": "[encoded data removed]"
     },
     "metadata": {
      "needs_background": "light"
     },
     "output_type": "display_data"
    },
    {
     "name": "stdout",
     "output_type": "stream",
     "text": [
      "\n",
      "Below is the plot of 50 most commonly used words in Quality comment\n"
     ]
    },
    {
     "data": {
      "text/plain": "<Figure size 1080x504 with 1 Axes>",
      "image/png": "[encoded data removed]"
     },
     "metadata": {
      "needs_background": "light"
     },
     "output_type": "display_data"
    },
    {
     "data": {
      "text/plain": "<AxesSubplot:xlabel='Samples', ylabel='Counts'>"
     },
     "execution_count": 100,
     "metadata": {},
     "output_type": "execute_result"
    }
   ],
   "source": [
    "spam_text = ' '.join(spam_text).split()\n",
    "freq = nltk.FreqDist(spam_text)\n",
    "\n",
    "print(\"\\nBelow is the plot of 50 most commonly used words in SPAM comment\")\n",
    "plt.figure(figsize=(15,7))\n",
    "freq.most_common(50)\n",
    "freq.plot(50)\n",
    "\n",
    "Quality_text = ' '.join(Quality_text).split()\n",
    "freq = nltk.FreqDist(Quality_text)\n",
    "print(\"\\nBelow is the plot of 50 most commonly used words in Quality comment\")\n",
    "\n",
    "plt.figure(figsize=(15,7))\n",
    "freq.most_common(50)\n",
    "freq.plot(50)"
   ]
  },
  {
   "cell_type": "markdown",
   "metadata": {},
   "source": [
    "### Function to return ngram words "
   ]
  },
  {
   "cell_type": "markdown",
   "metadata": {},
   "source": [
    "from itertools import combinations\n",
    "from collections import Counter\n",
    "\n",
    "def ngram(lines,i):\n",
    "    pair_counter = Counter()\n",
    "    for line in lines:\n",
    "        unique_tokens = sorted(set(line))  \n",
    "        combos = combinations(unique_tokens, i)\n",
    "        pair_counter += Counter(combos)\n",
    "    return pair_counter"
   ]
  },
  {
   "cell_type": "code",
   "execution_count": 101,
   "outputs": [],
   "source": [
    "from itertools import combinations\n",
    "from collections import Counter\n",
    "def ngram(lines,i):\n",
    "    pair_counter = Counter()\n",
    "    for line in lines:\n",
    "        unique_tokens = sorted(set(line))\n",
    "        combos = combinations(unique_tokens, i)\n",
    "        pair_counter += Counter(combos)\n",
    "        return pair_counter"
   ],
   "metadata": {
    "collapsed": false,
    "pycharm": {
     "name": "#%%\n"
    }
   }
  },
  {
   "cell_type": "markdown",
   "metadata": {},
   "source": [
    "### Applying 1-gram, bi-gram and tri-gram models on Spam corpus "
   ]
  },
  {
   "cell_type": "code",
   "execution_count": 102,
   "outputs": [],
   "source": [
    "lines = []\n",
    "for i in range(0,len(spam_df)):\n",
    "    tokens = spam_df.filtered_text_lower.iloc[i].split()\n",
    "    lines.append(tokens)\n",
    "    one_gram_spam = ngram(lines,1)\n",
    "    bi_gram_spam = ngram(lines,2)\n",
    "    tri_gram_spam = ngram(lines,3)"
   ],
   "metadata": {
    "collapsed": false,
    "pycharm": {
     "name": "#%%\n"
    }
   }
  },
  {
   "cell_type": "markdown",
   "metadata": {},
   "source": [
    "spam_df = df[df.label==1]\n",
    "ham_df = df[df.label==0]\n",
    "\n",
    "lines = []\n",
    "for i in range(0,len(spam_df)):\n",
    "    tokens = spam_df.filtered_text_lower.iloc[i].split()\n",
    "    lines.append(tokens)"
   ]
  },
  {
   "cell_type": "markdown",
   "metadata": {},
   "source": [
    "one_gram_spam = ngram(lines,1)\n",
    "bi_gram_spam = ngram(lines,2)\n",
    "tri_gram_spam = ngram(lines,3)"
   ]
  },
  {
   "cell_type": "markdown",
   "metadata": {},
   "source": [
    "### Applying 1-gram, bi-gram and tri-gram models on Ham corpus "
   ]
  },
  {
   "cell_type": "code",
   "execution_count": 103,
   "outputs": [],
   "source": [
    "lines = []\n",
    "for i in range(0,len(Quality_df)):\n",
    "    tokens = Quality_df.filtered_text_lower.iloc[i].split()\n",
    "    lines.append(tokens)\n",
    "one_gram_Quality = ngram(lines,1)\n",
    "bi_gram_Quality = ngram(lines,2)\n",
    "tri_gram_Quality = ngram(lines,3)"
   ],
   "metadata": {
    "collapsed": false,
    "pycharm": {
     "name": "#%%\n"
    }
   }
  },
  {
   "cell_type": "markdown",
   "metadata": {},
   "source": [
    "lines = []\n",
    "for i in range(0,len(ham_df)):\n",
    "    tokens = ham_df.filtered_text_lower.iloc[i].split()\n",
    "    lines.append(tokens)\n",
    "    \n",
    "one_gram_ham = ngram(lines,1)\n",
    "bi_gram_ham = ngram(lines,2)\n",
    "tri_gram_ham = ngram(lines,3)"
   ]
  },
  {
   "cell_type": "markdown",
   "metadata": {},
   "source": [
    "### Top 25 word occurances in Spam tweets (1-gram, bi-gram & tri-gram models)"
   ]
  },
  {
   "cell_type": "code",
   "execution_count": 104,
   "outputs": [
    {
     "data": {
      "text/plain": "[(('#jan', 'chelsea', 'diagnoses'), 1),\n (('#jan', 'chelsea', 'disease'), 1),\n (('#jan', 'chelsea', 'handler'), 1),\n (('#jan', 'chelsea', 'https://t.co/drn35xtsjz'), 1),\n (('#jan', 'chelsea', 'https://t.co/k8prqcwtri'), 1),\n (('#jan', 'chelsea', 'idiot'), 1),\n (('#jan', 'chelsea', 'trump'), 1),\n (('#jan', 'chelsea', 'with'), 1),\n (('#jan', 'diagnoses', 'disease'), 1),\n (('#jan', 'diagnoses', 'handler'), 1),\n (('#jan', 'diagnoses', 'https://t.co/drn35xtsjz'), 1),\n (('#jan', 'diagnoses', 'https://t.co/k8prqcwtri'), 1),\n (('#jan', 'diagnoses', 'idiot'), 1),\n (('#jan', 'diagnoses', 'trump'), 1),\n (('#jan', 'diagnoses', 'with'), 1),\n (('#jan', 'disease', 'handler'), 1),\n (('#jan', 'disease', 'https://t.co/drn35xtsjz'), 1),\n (('#jan', 'disease', 'https://t.co/k8prqcwtri'), 1),\n (('#jan', 'disease', 'idiot'), 1),\n (('#jan', 'disease', 'trump'), 1)]"
     },
     "execution_count": 104,
     "metadata": {},
     "output_type": "execute_result"
    }
   ],
   "source": [
    "one_gram_spam.most_common(20)\n",
    "bi_gram_spam.most_common(20)\n",
    "tri_gram_spam.most_common(20)"
   ],
   "metadata": {
    "collapsed": false,
    "pycharm": {
     "name": "#%%\n"
    }
   }
  },
  {
   "cell_type": "markdown",
   "metadata": {},
   "source": [
    "### Top 25 word occurances in Quality tweets (1-gram, bi-gram & tri-gram models)"
   ]
  },
  {
   "cell_type": "code",
   "execution_count": 105,
   "outputs": [
    {
     "data": {
      "text/plain": "[(('happypic.twitter.com/2xz5ez9gk1', 'makes', 'me'), 1),\n (('happypic.twitter.com/2xz5ez9gk1', 'makes', 'picture'), 1),\n (('happypic.twitter.com/2xz5ez9gk1', 'makes', 'so'), 1),\n (('happypic.twitter.com/2xz5ez9gk1', 'makes', 'this'), 1),\n (('happypic.twitter.com/2xz5ez9gk1', 'me', 'picture'), 1),\n (('happypic.twitter.com/2xz5ez9gk1', 'me', 'so'), 1),\n (('happypic.twitter.com/2xz5ez9gk1', 'me', 'this'), 1),\n (('happypic.twitter.com/2xz5ez9gk1', 'picture', 'so'), 1),\n (('happypic.twitter.com/2xz5ez9gk1', 'picture', 'this'), 1),\n (('happypic.twitter.com/2xz5ez9gk1', 'so', 'this'), 1),\n (('makes', 'me', 'picture'), 1),\n (('makes', 'me', 'so'), 1),\n (('makes', 'me', 'this'), 1),\n (('makes', 'picture', 'so'), 1),\n (('makes', 'picture', 'this'), 1),\n (('makes', 'so', 'this'), 1),\n (('me', 'picture', 'so'), 1),\n (('me', 'picture', 'this'), 1),\n (('me', 'so', 'this'), 1),\n (('picture', 'so', 'this'), 1)]"
     },
     "execution_count": 105,
     "metadata": {},
     "output_type": "execute_result"
    }
   ],
   "source": [
    "one_gram_Quality.most_common(20)\n",
    "bi_gram_Quality.most_common(20)\n",
    "tri_gram_Quality.most_common(20)"
   ],
   "metadata": {
    "collapsed": false,
    "pycharm": {
     "name": "#%%\n"
    }
   }
  },
  {
   "cell_type": "markdown",
   "metadata": {},
   "source": [
    "### We conduct a series of hypothesis tests we include features which show statistical significance between Qulaity and Spam classes"
   ]
  },
  {
   "cell_type": "code",
   "execution_count": 106,
   "metadata": {
    "pycharm": {
     "name": "#%%\n"
    }
   },
   "outputs": [
    {
     "ename": "KeyError",
     "evalue": "\"['label', 'num_hashtags', 'user_favourites_count', 'has_favorite_count', 'has_place', 'has_retweet_count', 'is_RT', 'has_user_description', 'has_user_followers_count', 'has_user_listed_count', 'has_user_name', 'is_user_verfied', 'user_listed_count'] not in index\"",
     "output_type": "error",
     "traceback": [
      "\u001B[1;31m---------------------------------------------------------------------------\u001B[0m",
      "\u001B[1;31mKeyError\u001B[0m                                  Traceback (most recent call last)",
      "Input \u001B[1;32mIn [106]\u001B[0m, in \u001B[0;36m<module>\u001B[1;34m\u001B[0m\n\u001B[1;32m----> 1\u001B[0m df \u001B[38;5;241m=\u001B[39m \u001B[43mdf\u001B[49m\u001B[43m[\u001B[49m\u001B[43m[\u001B[49m\u001B[38;5;124;43m'\u001B[39;49m\u001B[38;5;124;43mlabel\u001B[39;49m\u001B[38;5;124;43m'\u001B[39;49m\u001B[43m,\u001B[49m\u001B[38;5;124;43m'\u001B[39;49m\u001B[38;5;124;43mhas_hashtags\u001B[39;49m\u001B[38;5;124;43m'\u001B[39;49m\u001B[43m,\u001B[49m\u001B[43m \u001B[49m\u001B[38;5;124;43m'\u001B[39;49m\u001B[38;5;124;43mnum_hashtags\u001B[39;49m\u001B[38;5;124;43m'\u001B[39;49m\u001B[43m,\u001B[49m\u001B[43m \u001B[49m\u001B[38;5;124;43m'\u001B[39;49m\u001B[38;5;124;43mhas_media\u001B[39;49m\u001B[38;5;124;43m'\u001B[39;49m\u001B[43m,\u001B[49m\u001B[38;5;124;43m'\u001B[39;49m\u001B[38;5;124;43muser_favourites_count\u001B[39;49m\u001B[38;5;124;43m'\u001B[39;49m\u001B[43m,\u001B[49m\n\u001B[0;32m      2\u001B[0m \u001B[43m       \u001B[49m\u001B[38;5;124;43m'\u001B[39;49m\u001B[38;5;124;43mhas_urls\u001B[39;49m\u001B[38;5;124;43m'\u001B[39;49m\u001B[43m,\u001B[49m\u001B[43m \u001B[49m\u001B[38;5;124;43m'\u001B[39;49m\u001B[38;5;124;43mhas_favorite_count\u001B[39;49m\u001B[38;5;124;43m'\u001B[39;49m\u001B[43m,\u001B[49m\u001B[43m \u001B[49m\u001B[38;5;124;43m'\u001B[39;49m\u001B[38;5;124;43mhas_place\u001B[39;49m\u001B[38;5;124;43m'\u001B[39;49m\u001B[43m,\u001B[49m\u001B[43m \u001B[49m\u001B[38;5;124;43m'\u001B[39;49m\u001B[38;5;124;43mhas_retweet_count\u001B[39;49m\u001B[38;5;124;43m'\u001B[39;49m\u001B[43m,\u001B[49m\n\u001B[0;32m      3\u001B[0m \u001B[43m       \u001B[49m\u001B[38;5;124;43m'\u001B[39;49m\u001B[38;5;124;43mis_RT\u001B[39;49m\u001B[38;5;124;43m'\u001B[39;49m\u001B[43m,\u001B[49m\u001B[43m \u001B[49m\u001B[38;5;124;43m'\u001B[39;49m\u001B[38;5;124;43mhas_user_description\u001B[39;49m\u001B[38;5;124;43m'\u001B[39;49m\u001B[43m,\u001B[49m\u001B[43m \u001B[49m\u001B[38;5;124;43m'\u001B[39;49m\u001B[38;5;124;43mhas_user_followers_count\u001B[39;49m\u001B[38;5;124;43m'\u001B[39;49m\u001B[43m,\u001B[49m\n\u001B[0;32m      4\u001B[0m \u001B[43m       \u001B[49m\u001B[38;5;124;43m'\u001B[39;49m\u001B[38;5;124;43mhas_user_listed_count\u001B[39;49m\u001B[38;5;124;43m'\u001B[39;49m\u001B[43m,\u001B[49m\u001B[43m \u001B[49m\u001B[38;5;124;43m'\u001B[39;49m\u001B[38;5;124;43mhas_user_name\u001B[39;49m\u001B[38;5;124;43m'\u001B[39;49m\u001B[43m,\u001B[49m\u001B[43m \u001B[49m\u001B[38;5;124;43m'\u001B[39;49m\u001B[38;5;124;43mis_user_verfied\u001B[39;49m\u001B[38;5;124;43m'\u001B[39;49m\u001B[43m,\u001B[49m\u001B[43m \u001B[49m\u001B[38;5;124;43m'\u001B[39;49m\u001B[38;5;124;43mf_ratio\u001B[39;49m\u001B[38;5;124;43m'\u001B[39;49m\u001B[43m,\u001B[49m\n\u001B[0;32m      5\u001B[0m \u001B[43m       \u001B[49m\u001B[38;5;124;43m'\u001B[39;49m\u001B[38;5;124;43mlength\u001B[39;49m\u001B[38;5;124;43m'\u001B[39;49m\u001B[43m,\u001B[49m\u001B[43m \u001B[49m\u001B[38;5;124;43m'\u001B[39;49m\u001B[38;5;124;43mDIGITS\u001B[39;49m\u001B[38;5;124;43m'\u001B[39;49m\u001B[43m,\u001B[49m\u001B[43m \u001B[49m\u001B[38;5;124;43m'\u001B[39;49m\u001B[38;5;124;43mCAP\u001B[39;49m\u001B[38;5;124;43m'\u001B[39;49m\u001B[43m,\u001B[49m\u001B[43m \u001B[49m\u001B[38;5;124;43m'\u001B[39;49m\u001B[38;5;124;43mfiltered_text\u001B[39;49m\u001B[38;5;124;43m'\u001B[39;49m\u001B[43m,\u001B[49m\u001B[43m \u001B[49m\u001B[38;5;124;43m'\u001B[39;49m\u001B[38;5;124;43mfiltered_text_lower\u001B[39;49m\u001B[38;5;124;43m'\u001B[39;49m\u001B[43m,\u001B[49m\u001B[38;5;124;43m'\u001B[39;49m\u001B[38;5;124;43muser_listed_count\u001B[39;49m\u001B[38;5;124;43m'\u001B[39;49m\u001B[43m]\u001B[49m\u001B[43m]\u001B[49m\n",
      "File \u001B[1;32mc:\\users\\akhg9\\appdata\\local\\programs\\python\\python39\\lib\\site-packages\\pandas\\core\\frame.py:3464\u001B[0m, in \u001B[0;36mDataFrame.__getitem__\u001B[1;34m(self, key)\u001B[0m\n\u001B[0;32m   3462\u001B[0m     \u001B[38;5;28;01mif\u001B[39;00m is_iterator(key):\n\u001B[0;32m   3463\u001B[0m         key \u001B[38;5;241m=\u001B[39m \u001B[38;5;28mlist\u001B[39m(key)\n\u001B[1;32m-> 3464\u001B[0m     indexer \u001B[38;5;241m=\u001B[39m \u001B[38;5;28;43mself\u001B[39;49m\u001B[38;5;241;43m.\u001B[39;49m\u001B[43mloc\u001B[49m\u001B[38;5;241;43m.\u001B[39;49m\u001B[43m_get_listlike_indexer\u001B[49m\u001B[43m(\u001B[49m\u001B[43mkey\u001B[49m\u001B[43m,\u001B[49m\u001B[43m \u001B[49m\u001B[43maxis\u001B[49m\u001B[38;5;241;43m=\u001B[39;49m\u001B[38;5;241;43m1\u001B[39;49m\u001B[43m)\u001B[49m[\u001B[38;5;241m1\u001B[39m]\n\u001B[0;32m   3466\u001B[0m \u001B[38;5;66;03m# take() does not accept boolean indexers\u001B[39;00m\n\u001B[0;32m   3467\u001B[0m \u001B[38;5;28;01mif\u001B[39;00m \u001B[38;5;28mgetattr\u001B[39m(indexer, \u001B[38;5;124m\"\u001B[39m\u001B[38;5;124mdtype\u001B[39m\u001B[38;5;124m\"\u001B[39m, \u001B[38;5;28;01mNone\u001B[39;00m) \u001B[38;5;241m==\u001B[39m \u001B[38;5;28mbool\u001B[39m:\n",
      "File \u001B[1;32mc:\\users\\akhg9\\appdata\\local\\programs\\python\\python39\\lib\\site-packages\\pandas\\core\\indexing.py:1314\u001B[0m, in \u001B[0;36m_LocIndexer._get_listlike_indexer\u001B[1;34m(self, key, axis)\u001B[0m\n\u001B[0;32m   1311\u001B[0m \u001B[38;5;28;01melse\u001B[39;00m:\n\u001B[0;32m   1312\u001B[0m     keyarr, indexer, new_indexer \u001B[38;5;241m=\u001B[39m ax\u001B[38;5;241m.\u001B[39m_reindex_non_unique(keyarr)\n\u001B[1;32m-> 1314\u001B[0m \u001B[38;5;28;43mself\u001B[39;49m\u001B[38;5;241;43m.\u001B[39;49m\u001B[43m_validate_read_indexer\u001B[49m\u001B[43m(\u001B[49m\u001B[43mkeyarr\u001B[49m\u001B[43m,\u001B[49m\u001B[43m \u001B[49m\u001B[43mindexer\u001B[49m\u001B[43m,\u001B[49m\u001B[43m \u001B[49m\u001B[43maxis\u001B[49m\u001B[43m)\u001B[49m\n\u001B[0;32m   1316\u001B[0m \u001B[38;5;28;01mif\u001B[39;00m needs_i8_conversion(ax\u001B[38;5;241m.\u001B[39mdtype) \u001B[38;5;129;01mor\u001B[39;00m \u001B[38;5;28misinstance\u001B[39m(\n\u001B[0;32m   1317\u001B[0m     ax, (IntervalIndex, CategoricalIndex)\n\u001B[0;32m   1318\u001B[0m ):\n\u001B[0;32m   1319\u001B[0m     \u001B[38;5;66;03m# For CategoricalIndex take instead of reindex to preserve dtype.\u001B[39;00m\n\u001B[0;32m   1320\u001B[0m     \u001B[38;5;66;03m#  For IntervalIndex this is to map integers to the Intervals they match to.\u001B[39;00m\n\u001B[0;32m   1321\u001B[0m     keyarr \u001B[38;5;241m=\u001B[39m ax\u001B[38;5;241m.\u001B[39mtake(indexer)\n",
      "File \u001B[1;32mc:\\users\\akhg9\\appdata\\local\\programs\\python\\python39\\lib\\site-packages\\pandas\\core\\indexing.py:1377\u001B[0m, in \u001B[0;36m_LocIndexer._validate_read_indexer\u001B[1;34m(self, key, indexer, axis)\u001B[0m\n\u001B[0;32m   1374\u001B[0m     \u001B[38;5;28;01mraise\u001B[39;00m \u001B[38;5;167;01mKeyError\u001B[39;00m(\u001B[38;5;124mf\u001B[39m\u001B[38;5;124m\"\u001B[39m\u001B[38;5;124mNone of [\u001B[39m\u001B[38;5;132;01m{\u001B[39;00mkey\u001B[38;5;132;01m}\u001B[39;00m\u001B[38;5;124m] are in the [\u001B[39m\u001B[38;5;132;01m{\u001B[39;00maxis_name\u001B[38;5;132;01m}\u001B[39;00m\u001B[38;5;124m]\u001B[39m\u001B[38;5;124m\"\u001B[39m)\n\u001B[0;32m   1376\u001B[0m not_found \u001B[38;5;241m=\u001B[39m \u001B[38;5;28mlist\u001B[39m(ensure_index(key)[missing_mask\u001B[38;5;241m.\u001B[39mnonzero()[\u001B[38;5;241m0\u001B[39m]]\u001B[38;5;241m.\u001B[39munique())\n\u001B[1;32m-> 1377\u001B[0m \u001B[38;5;28;01mraise\u001B[39;00m \u001B[38;5;167;01mKeyError\u001B[39;00m(\u001B[38;5;124mf\u001B[39m\u001B[38;5;124m\"\u001B[39m\u001B[38;5;132;01m{\u001B[39;00mnot_found\u001B[38;5;132;01m}\u001B[39;00m\u001B[38;5;124m not in index\u001B[39m\u001B[38;5;124m\"\u001B[39m)\n",
      "\u001B[1;31mKeyError\u001B[0m: \"['label', 'num_hashtags', 'user_favourites_count', 'has_favorite_count', 'has_place', 'has_retweet_count', 'is_RT', 'has_user_description', 'has_user_followers_count', 'has_user_listed_count', 'has_user_name', 'is_user_verfied', 'user_listed_count'] not in index\""
     ]
    }
   ],
   "source": [
    "df = df[['label','has_hashtags', 'num_hashtags', 'has_media','user_favourites_count',\n",
    "       'has_urls', 'has_favorite_count', 'has_place', 'has_retweet_count',\n",
    "       'is_RT', 'has_user_description', 'has_user_followers_count',\n",
    "       'has_user_listed_count', 'has_user_name', 'is_user_verfied', 'f_ratio',\n",
    "       'length', 'DIGITS', 'CAP', 'filtered_text', 'filtered_text_lower','user_listed_count']]"
   ]
  },
  {
   "cell_type": "markdown",
   "metadata": {},
   "source": [
    "## We plot distribution plots for continuous variables "
   ]
  },
  {
   "cell_type": "markdown",
   "metadata": {},
   "source": [
    "### Distribution plot for number of digits that occured in a tweet, based on Spam/ Ham label"
   ]
  },
  {
   "cell_type": "code",
   "execution_count": null,
   "metadata": {
    "pycharm": {
     "name": "#%%\n"
    }
   },
   "outputs": [],
   "source": [
    "plt.figure(figsize=(10,7))\n",
    "sns.distplot(df[df.is_spam==0].DIGITS,color=\"black\",kde=True,label=\"Quality\");\n",
    "sns.distplot(df[df.is_spam==1].DIGITS,color=\"red\",kde=True,label=\"Spam\");\n",
    "plt.xlim(0,20)\n",
    "\n",
    "large = 24\n",
    "\n",
    "plt.rc('legend',fontsize=large)\n",
    "plt.rc('axes',titlesize = 20)\n",
    "plt.rc('axes',labelsize = 16)\n",
    "plt.rc('xtick',labelsize = 20)\n",
    "plt.rc('ytick',labelsize = 20)\n",
    "\n",
    "\n",
    "\n",
    "plt.title(\"KDE distribution plot\\nNumber of digits in Quality and Spam\\n\")\n",
    "plt.xlabel(\"Number of digits\")\n",
    "plt.ylabel(\"Probability\")\n",
    "plt.show()\n",
    "\n",
    "plt.show()"
   ]
  },
  {
   "cell_type": "markdown",
   "metadata": {},
   "source": [
    "### Distribution plot for number of capitalized words that occured in a tweet, based on Spam/ Ham label "
   ]
  },
  {
   "cell_type": "code",
   "execution_count": null,
   "metadata": {
    "pycharm": {
     "name": "#%%\n"
    }
   },
   "outputs": [],
   "source": [
    "plt.figure(figsize=(12,7))\n",
    "sns.distplot(df[df.is_spam==0].CAP,color=\"black\",kde=True)\n",
    "sns.distplot(df[df.is_spam==1].CAP,color=\"red\",kde=True)\n",
    "plt.xlim(0,10)\n",
    "\n",
    "large = 24\n",
    "\n",
    "plt.rc('legend',fontsize=large)\n",
    "plt.rc('axes',titlesize = 20)\n",
    "plt.rc('axes',labelsize = 16)\n",
    "plt.rc('xtick',labelsize = 20)\n",
    "plt.rc('ytick',labelsize = 20)\n",
    "\n",
    "\n",
    "\n",
    "plt.title(\"KDE distribution plot\\nNumber of Capitalized words in Ham and Spam\\n\")\n",
    "plt.xlabel(\"Number of Capitalized words\")\n",
    "plt.ylabel(\"Probability\")\n",
    "plt.show()\n",
    "\n",
    "plt.show()\n",
    "\n",
    "plt.show()"
   ]
  },
  {
   "cell_type": "markdown",
   "metadata": {},
   "source": [
    "### Distribution plot of Length of tweets, based on the Spam or Ham label "
   ]
  },
  {
   "cell_type": "code",
   "execution_count": null,
   "metadata": {
    "pycharm": {
     "name": "#%%\n"
    }
   },
   "outputs": [],
   "source": [
    "plt.figure(figsize=(18,9))\n",
    "sns.distplot(df[df.is_spam==0].length,color=\"black\",kde=True)\n",
    "sns.distplot(df[df.is_spam==1].length,color=\"red\",kde=True)\n",
    "plt.show()"
   ]
  },
  {
   "cell_type": "code",
   "execution_count": null,
   "metadata": {
    "pycharm": {
     "name": "#%%\n"
    }
   },
   "outputs": [],
   "source": [
    "cols = [ 'DIGITS', 'CAP']\n",
    "\n",
    "for i in range(1,len(cols)):\n",
    "    plt.figure(figsize=(12,8))\n",
    "    c = cols[i]\n",
    "    print(\"Count plot for\",\"'\",cols[i],\"' feature, based on Spam/ Ham tweet label\")\n",
    "    sns.countplot(c,hue=df.is_spam,data=df)\n",
    "    plt.show()\n",
    "    print(\"\\n\")"
   ]
  },
  {
   "cell_type": "code",
   "execution_count": null,
   "metadata": {
    "pycharm": {
     "name": "#%%\n"
    }
   },
   "outputs": [],
   "source": [
    "def comfusion_matrix_properties(mat):\n",
    "\n",
    "\n",
    "    from sklearn.metrics import confusion_matrix\n",
    "\n",
    "    mat = confusion_matrix(y_test,ypred)\n",
    "    print(\"Confusion Matrix:\\n\\n\",mat,\"\\n\")\n",
    "\n",
    "    TP = mat[0][0]\n",
    "    FP = mat[0][1]\n",
    "    FN = mat[1][0]\n",
    "    TN = mat[1][1]\n",
    "\n",
    "\n",
    "    # Sensitivity, hit rate, recall, or true positive rate\n",
    "    TPR = TP/(TP+FN)\n",
    "    print(\"True Positive Rate\",round(TPR*100,2),\"%\")\n",
    "\n",
    "    # Specificity or true negative rate\n",
    "    TNR = TN/(TN+FP)\n",
    "    print(\"True Negative Rate\",round(TNR*100,2),\"%\")\n",
    "\n",
    "    # Precision or positive predictive value\n",
    "    PPV = TP/(TP+FP)\n",
    "    print(\"Positive Predictive Value\",round(PPV*100,2),\"%\")\n",
    "\n",
    "    # Negative predictive value\n",
    "    NPV = TN/(TN+FN)\n",
    "    print(\"Negative Predictive Value\",round(NPV*100,2),\"%\")\n",
    "\n",
    "    # Fall out or false positive rate\n",
    "    FPR = FP/(FP+TN)\n",
    "    print(\"False Positive Rate\",round(FPR*100,2),\"%\")\n",
    "\n",
    "    # False negative rate\n",
    "    FNR = FN/(TP+FN)\n",
    "    print(\"False Negative Rate\",round(FNR*100,2),\"%\")\n",
    "\n",
    "    # False discovery rate\n",
    "    FDR = FP/(TP+FP)\n",
    "    print(\"False Discovery Rate\",round(FDR*100,2),\"%\")\n",
    "\n",
    "\n",
    "    # Overall accuracy\n",
    "    ACC = (TP+TN)/(TP+FP+FN+TN)\n",
    "    print(\"Overall Accuracy\",round(ACC*100,2),\"%\")"
   ]
  },
  {
   "cell_type": "markdown",
   "metadata": {},
   "source": [
    "# Modelling & Evaluation"
   ]
  },
  {
   "cell_type": "markdown",
   "metadata": {},
   "source": [
    "## As a base model, we run a Naive Bayes classifier, purely based on tweet text."
   ]
  },
  {
   "cell_type": "code",
   "execution_count": null,
   "metadata": {
    "pycharm": {
     "name": "#%%\n"
    }
   },
   "outputs": [],
   "source": [
    "NB_df = df[['filtered_text','type']]\n",
    "NB_df = NB_df.sample(frac=1)\n",
    "\n",
    "from sklearn.feature_extraction.text import CountVectorizer\n",
    "\n",
    "vecfinal = CountVectorizer(min_df=50,max_df=0.8,stop_words=\"english\")\n",
    "finalX = vecfinal.fit_transform(NB_df['filtered_text'])"
   ]
  },
  {
   "cell_type": "markdown",
   "metadata": {},
   "source": [
    "### Splitting into training and testing data "
   ]
  },
  {
   "cell_type": "code",
   "execution_count": null,
   "metadata": {
    "pycharm": {
     "name": "#%%\n"
    }
   },
   "outputs": [],
   "source": [
    "split_limit = round(len(NB_df)/2)\n",
    "X_train = finalX.toarray()[:split_limit]\n",
    "X_test = finalX.toarray()[split_limit:]\n",
    "y_train = NB_df.type[:split_limit]\n",
    "y_test = NB_df.type[split_limit:]"
   ]
  },
  {
   "cell_type": "markdown",
   "metadata": {},
   "source": [
    "###  Applying Bernoulli Naive Bayes Model"
   ]
  },
  {
   "cell_type": "code",
   "execution_count": 118,
   "metadata": {
    "pycharm": {
     "name": "#%%\n"
    }
   },
   "outputs": [
    {
     "name": "stdout",
     "output_type": "stream",
     "text": [
      "Accuracy for this model:  72.3586296196302 %\n"
     ]
    }
   ],
   "source": [
    "from sklearn.naive_bayes import BernoulliNB\n",
    "from sklearn.metrics import f1_score\n",
    "\n",
    "clf_nb = BernoulliNB()\n",
    "clf_nb.fit(X_train, y_train)\n",
    "ypred = clf_nb.predict(X_test)\n",
    "ypred_NB_model=clf_nb.predict(X_test)\n",
    "accuracy = f1_score(y_test, ypred, average='weighted')\n",
    "print(\"Accuracy for this model: \", accuracy*100,\"%\")"
   ]
  },
  {
   "cell_type": "code",
   "execution_count": null,
   "metadata": {
    "pycharm": {
     "name": "#%%\n"
    }
   },
   "outputs": [],
   "source": [
    "print(\"Naive Bayes Model \")\n",
    "mat = confusion_matrix(y_test,ypred)\n",
    "comfusion_matrix_properties(mat)"
   ]
  },
  {
   "cell_type": "markdown",
   "metadata": {},
   "source": [
    "## Now, we would like to see how the non-text based features work for prediction "
   ]
  },
  {
   "cell_type": "markdown",
   "metadata": {},
   "source": [
    "## We subset only necessary features which make sense in this scenario, i.e., features that statistically differentiate between spam and ham tweets."
   ]
  },
  {
   "cell_type": "code",
   "execution_count": 110,
   "metadata": {
    "pycharm": {
     "name": "#%%\n"
    }
   },
   "outputs": [],
   "source": [
    "y = df.type\n",
    "X = df[['has_hashtags',  'has_media',\n",
    "       'has_urls',\n",
    "\n",
    "       'length', 'DIGITS', 'CAP',]]\n",
    "model = X"
   ]
  },
  {
   "cell_type": "markdown",
   "metadata": {},
   "source": [
    "### Prediction using Decision Tree Classifier"
   ]
  },
  {
   "cell_type": "code",
   "execution_count": 111,
   "outputs": [],
   "source": [
    "from sklearn.tree import DecisionTreeClassifier\n",
    "from sklearn.model_selection import train_test_split\n",
    "from sklearn.metrics import accuracy_score\n",
    "\n",
    "X_train, X_test, y_train, y_test = train_test_split(model, y, test_size = 0.5,random_state=0)\n",
    "\n",
    "depth = []\n",
    "training_score = []\n",
    "testing_score = []\n",
    "\n",
    "for i in range(1,25):\n",
    "    clf_dt = DecisionTreeClassifier(criterion = \"gini\",random_state=0)\n",
    "    clf_dt.max_depth = i\n",
    "    clf_dt.fit(X_train, y_train)\n",
    "    pred_train = clf_dt.predict(X_train)\n",
    "    #print(\"Training accuracy, with\",i,\"depth :\",accuracy_score(pred_train,y_train)*100)\n",
    "\n",
    "    pred_test = clf_dt.predict(X_test)\n",
    "    #print(\"Testing accuracy, with\",i,\"depth :\",accuracy_score(pred_test,y_test)*100,\"\\n\")\n",
    "\n",
    "    depth.append(i)\n",
    "    training_score.append(accuracy_score(pred_train,y_train))\n",
    "    testing_score.append(accuracy_score(pred_test,y_test))"
   ],
   "metadata": {
    "collapsed": false,
    "pycharm": {
     "name": "#%%\n"
    }
   }
  },
  {
   "cell_type": "markdown",
   "metadata": {
    "pycharm": {
     "name": "#%% md"
    }
   },
   "source": []
  },
  {
   "cell_type": "code",
   "execution_count": 112,
   "outputs": [
    {
     "data": {
      "text/plain": "<matplotlib.collections.PathCollection at 0x2a1a5f14790>"
     },
     "execution_count": 112,
     "metadata": {},
     "output_type": "execute_result"
    },
    {
     "data": {
      "text/plain": "<Figure size 1008x504 with 1 Axes>",
      "image/png": "[encoded data removed]"
     },
     "metadata": {
      "needs_background": "light"
     },
     "output_type": "display_data"
    }
   ],
   "source": [
    "plt.figure(figsize=(14,7))\n",
    "plt.grid()\n",
    "\n",
    "plt.plot(depth, training_score,c='black')\n",
    "plt.plot(depth, testing_score,c='red')\n",
    "plt.scatter(depth, training_score,c='black',marker='*',linewidth=2)\n",
    "plt.scatter(depth, testing_score,c='red',marker='*',linewidth=2)"
   ],
   "metadata": {
    "collapsed": false,
    "pycharm": {
     "name": "#%%\n"
    }
   }
  },
  {
   "cell_type": "code",
   "execution_count": 114,
   "outputs": [
    {
     "data": {
      "text/plain": "GridSearchCV(cv=5, estimator=DecisionTreeClassifier(random_state=0),\n             param_grid={'criterion': ['gini', 'entropy'],\n                         'max_depth': [1, 2, 3, 4, 5, 6, 7, 8, 9, 10, 11, 12,\n                                       13, 14, 15, 16, 17, 18, 19, 20, 21, 22,\n                                       23, 24, 25, 26, 27, 28, 29, 30, ...]})"
     },
     "execution_count": 114,
     "metadata": {},
     "output_type": "execute_result"
    }
   ],
   "source": [
    "from sklearn.model_selection import GridSearchCV\n",
    "from sklearn.model_selection import train_test_split\n",
    "\n",
    "X = model\n",
    "\n",
    "X_train, X_test, y_train, y_test = train_test_split(X, y, test_size = 0.5,random_state=0)\n",
    "\n",
    "clf = DecisionTreeClassifier(random_state=0)\n",
    "\n",
    "param_grid = {\n",
    "              \"criterion\": [\"gini\", \"entropy\"],\n",
    "              \"max_depth\": list(np.arange(1,50,1)),\n",
    "              }\n",
    "\n",
    "CLF = GridSearchCV(estimator = clf, param_grid=param_grid, cv = 5)\n",
    "CLF.fit(X_train, y_train)"
   ],
   "metadata": {
    "collapsed": false,
    "pycharm": {
     "name": "#%%\n"
    }
   }
  },
  {
   "cell_type": "code",
   "execution_count": 115,
   "outputs": [
    {
     "data": {
      "text/plain": "{'criterion': 'entropy', 'max_depth': 6}"
     },
     "execution_count": 115,
     "metadata": {},
     "output_type": "execute_result"
    }
   ],
   "source": [
    "CLF.best_params_"
   ],
   "metadata": {
    "collapsed": false,
    "pycharm": {
     "name": "#%%\n"
    }
   }
  },
  {
   "cell_type": "code",
   "execution_count": 116,
   "outputs": [
    {
     "name": "stdout",
     "output_type": "stream",
     "text": [
      "Prediction Accuracy: 87.68701633705933 %\n"
     ]
    }
   ],
   "source": [
    "clf_dt = DecisionTreeClassifier(criterion=CLF.best_params_['criterion'],max_depth=CLF.best_params_['max_depth'],random_state=0)\n",
    "clf_dt.fit(X_train,y_train)\n",
    "ypred = clf_dt.predict(X_test)\n",
    "ypred_DT_model=clf_dt.predict(X_test)\n",
    "print(\"Prediction Accuracy:\",accuracy_score(ypred,y_test)*100,\"%\")"
   ],
   "metadata": {
    "collapsed": false,
    "pycharm": {
     "name": "#%%\n"
    }
   }
  }
 ],
 "metadata": {
  "kernelspec": {
   "display_name": "Python 3 (ipykernel)",
   "language": "python",
   "name": "python3"
  },
  "language_info": {
   "codemirror_mode": {
    "name": "ipython",
    "version": 3
   },
   "file_extension": ".py",
   "mimetype": "text/x-python",
   "name": "python",
   "nbconvert_exporter": "python",
   "pygments_lexer": "ipython3",
   "version": "3.9.0"
  }
 },
 "nbformat": 4,
 "nbformat_minor": 2
}